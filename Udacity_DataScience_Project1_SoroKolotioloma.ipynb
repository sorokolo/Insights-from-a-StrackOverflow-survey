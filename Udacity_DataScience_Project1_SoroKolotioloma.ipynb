{
 "cells": [
  {
   "cell_type": "markdown",
   "metadata": {},
   "source": [
    "#### OVERVIEW\n",
    "\n",
    "In this notebook, I am going to take you through a series of analysis.\n",
    "We will answer a few questions and draw some insights on the 2017 StackOverflow survey for developers.\n",
    "\n",
    "These are the three questions we want to answer in this notebook:\n",
    "\n",
    "    1. How does the country you leave affect you as a developer?\n",
    "    2. How does your Gender affect you when it comes to job placements and salaries?\n",
    "    3. How does the formal eduction impact you as a developper?"
   ]
  },
  {
   "cell_type": "code",
   "execution_count": 1,
   "metadata": {},
   "outputs": [
    {
     "data": {
      "text/html": [
       "<div>\n",
       "<style scoped>\n",
       "    .dataframe tbody tr th:only-of-type {\n",
       "        vertical-align: middle;\n",
       "    }\n",
       "\n",
       "    .dataframe tbody tr th {\n",
       "        vertical-align: top;\n",
       "    }\n",
       "\n",
       "    .dataframe thead th {\n",
       "        text-align: right;\n",
       "    }\n",
       "</style>\n",
       "<table border=\"1\" class=\"dataframe\">\n",
       "  <thead>\n",
       "    <tr style=\"text-align: right;\">\n",
       "      <th></th>\n",
       "      <th>Respondent</th>\n",
       "      <th>Professional</th>\n",
       "      <th>ProgramHobby</th>\n",
       "      <th>Country</th>\n",
       "      <th>University</th>\n",
       "      <th>EmploymentStatus</th>\n",
       "      <th>FormalEducation</th>\n",
       "      <th>MajorUndergrad</th>\n",
       "      <th>HomeRemote</th>\n",
       "      <th>CompanySize</th>\n",
       "      <th>...</th>\n",
       "      <th>StackOverflowMakeMoney</th>\n",
       "      <th>Gender</th>\n",
       "      <th>HighestEducationParents</th>\n",
       "      <th>Race</th>\n",
       "      <th>SurveyLong</th>\n",
       "      <th>QuestionsInteresting</th>\n",
       "      <th>QuestionsConfusing</th>\n",
       "      <th>InterestedAnswers</th>\n",
       "      <th>Salary</th>\n",
       "      <th>ExpectedSalary</th>\n",
       "    </tr>\n",
       "  </thead>\n",
       "  <tbody>\n",
       "    <tr>\n",
       "      <th>0</th>\n",
       "      <td>1</td>\n",
       "      <td>Student</td>\n",
       "      <td>Yes, both</td>\n",
       "      <td>United States</td>\n",
       "      <td>No</td>\n",
       "      <td>Not employed, and not looking for work</td>\n",
       "      <td>Secondary school</td>\n",
       "      <td>NaN</td>\n",
       "      <td>NaN</td>\n",
       "      <td>NaN</td>\n",
       "      <td>...</td>\n",
       "      <td>Strongly disagree</td>\n",
       "      <td>Male</td>\n",
       "      <td>High school</td>\n",
       "      <td>White or of European descent</td>\n",
       "      <td>Strongly disagree</td>\n",
       "      <td>Strongly agree</td>\n",
       "      <td>Disagree</td>\n",
       "      <td>Strongly agree</td>\n",
       "      <td>NaN</td>\n",
       "      <td>NaN</td>\n",
       "    </tr>\n",
       "    <tr>\n",
       "      <th>1</th>\n",
       "      <td>2</td>\n",
       "      <td>Student</td>\n",
       "      <td>Yes, both</td>\n",
       "      <td>United Kingdom</td>\n",
       "      <td>Yes, full-time</td>\n",
       "      <td>Employed part-time</td>\n",
       "      <td>Some college/university study without earning ...</td>\n",
       "      <td>Computer science or software engineering</td>\n",
       "      <td>More than half, but not all, the time</td>\n",
       "      <td>20 to 99 employees</td>\n",
       "      <td>...</td>\n",
       "      <td>Strongly disagree</td>\n",
       "      <td>Male</td>\n",
       "      <td>A master's degree</td>\n",
       "      <td>White or of European descent</td>\n",
       "      <td>Somewhat agree</td>\n",
       "      <td>Somewhat agree</td>\n",
       "      <td>Disagree</td>\n",
       "      <td>Strongly agree</td>\n",
       "      <td>NaN</td>\n",
       "      <td>37500.0</td>\n",
       "    </tr>\n",
       "    <tr>\n",
       "      <th>2</th>\n",
       "      <td>3</td>\n",
       "      <td>Professional developer</td>\n",
       "      <td>Yes, both</td>\n",
       "      <td>United Kingdom</td>\n",
       "      <td>No</td>\n",
       "      <td>Employed full-time</td>\n",
       "      <td>Bachelor's degree</td>\n",
       "      <td>Computer science or software engineering</td>\n",
       "      <td>Less than half the time, but at least one day ...</td>\n",
       "      <td>10,000 or more employees</td>\n",
       "      <td>...</td>\n",
       "      <td>Disagree</td>\n",
       "      <td>Male</td>\n",
       "      <td>A professional degree</td>\n",
       "      <td>White or of European descent</td>\n",
       "      <td>Somewhat agree</td>\n",
       "      <td>Agree</td>\n",
       "      <td>Disagree</td>\n",
       "      <td>Agree</td>\n",
       "      <td>113750.0</td>\n",
       "      <td>NaN</td>\n",
       "    </tr>\n",
       "    <tr>\n",
       "      <th>3</th>\n",
       "      <td>4</td>\n",
       "      <td>Professional non-developer who sometimes write...</td>\n",
       "      <td>Yes, both</td>\n",
       "      <td>United States</td>\n",
       "      <td>No</td>\n",
       "      <td>Employed full-time</td>\n",
       "      <td>Doctoral degree</td>\n",
       "      <td>A non-computer-focused engineering discipline</td>\n",
       "      <td>Less than half the time, but at least one day ...</td>\n",
       "      <td>10,000 or more employees</td>\n",
       "      <td>...</td>\n",
       "      <td>Disagree</td>\n",
       "      <td>Male</td>\n",
       "      <td>A doctoral degree</td>\n",
       "      <td>White or of European descent</td>\n",
       "      <td>Agree</td>\n",
       "      <td>Agree</td>\n",
       "      <td>Somewhat agree</td>\n",
       "      <td>Strongly agree</td>\n",
       "      <td>NaN</td>\n",
       "      <td>NaN</td>\n",
       "    </tr>\n",
       "    <tr>\n",
       "      <th>4</th>\n",
       "      <td>5</td>\n",
       "      <td>Professional developer</td>\n",
       "      <td>Yes, I program as a hobby</td>\n",
       "      <td>Switzerland</td>\n",
       "      <td>No</td>\n",
       "      <td>Employed full-time</td>\n",
       "      <td>Master's degree</td>\n",
       "      <td>Computer science or software engineering</td>\n",
       "      <td>Never</td>\n",
       "      <td>10 to 19 employees</td>\n",
       "      <td>...</td>\n",
       "      <td>NaN</td>\n",
       "      <td>NaN</td>\n",
       "      <td>NaN</td>\n",
       "      <td>NaN</td>\n",
       "      <td>NaN</td>\n",
       "      <td>NaN</td>\n",
       "      <td>NaN</td>\n",
       "      <td>NaN</td>\n",
       "      <td>NaN</td>\n",
       "      <td>NaN</td>\n",
       "    </tr>\n",
       "  </tbody>\n",
       "</table>\n",
       "<p>5 rows × 154 columns</p>\n",
       "</div>"
      ],
      "text/plain": [
       "   Respondent                                       Professional  \\\n",
       "0           1                                            Student   \n",
       "1           2                                            Student   \n",
       "2           3                             Professional developer   \n",
       "3           4  Professional non-developer who sometimes write...   \n",
       "4           5                             Professional developer   \n",
       "\n",
       "                ProgramHobby         Country      University  \\\n",
       "0                  Yes, both   United States              No   \n",
       "1                  Yes, both  United Kingdom  Yes, full-time   \n",
       "2                  Yes, both  United Kingdom              No   \n",
       "3                  Yes, both   United States              No   \n",
       "4  Yes, I program as a hobby     Switzerland              No   \n",
       "\n",
       "                         EmploymentStatus  \\\n",
       "0  Not employed, and not looking for work   \n",
       "1                      Employed part-time   \n",
       "2                      Employed full-time   \n",
       "3                      Employed full-time   \n",
       "4                      Employed full-time   \n",
       "\n",
       "                                     FormalEducation  \\\n",
       "0                                   Secondary school   \n",
       "1  Some college/university study without earning ...   \n",
       "2                                  Bachelor's degree   \n",
       "3                                    Doctoral degree   \n",
       "4                                    Master's degree   \n",
       "\n",
       "                                  MajorUndergrad  \\\n",
       "0                                            NaN   \n",
       "1       Computer science or software engineering   \n",
       "2       Computer science or software engineering   \n",
       "3  A non-computer-focused engineering discipline   \n",
       "4       Computer science or software engineering   \n",
       "\n",
       "                                          HomeRemote  \\\n",
       "0                                                NaN   \n",
       "1              More than half, but not all, the time   \n",
       "2  Less than half the time, but at least one day ...   \n",
       "3  Less than half the time, but at least one day ...   \n",
       "4                                              Never   \n",
       "\n",
       "                CompanySize  ... StackOverflowMakeMoney Gender  \\\n",
       "0                       NaN  ...      Strongly disagree   Male   \n",
       "1        20 to 99 employees  ...      Strongly disagree   Male   \n",
       "2  10,000 or more employees  ...               Disagree   Male   \n",
       "3  10,000 or more employees  ...               Disagree   Male   \n",
       "4        10 to 19 employees  ...                    NaN    NaN   \n",
       "\n",
       "  HighestEducationParents                          Race         SurveyLong  \\\n",
       "0             High school  White or of European descent  Strongly disagree   \n",
       "1       A master's degree  White or of European descent     Somewhat agree   \n",
       "2   A professional degree  White or of European descent     Somewhat agree   \n",
       "3       A doctoral degree  White or of European descent              Agree   \n",
       "4                     NaN                           NaN                NaN   \n",
       "\n",
       "  QuestionsInteresting QuestionsConfusing InterestedAnswers    Salary  \\\n",
       "0       Strongly agree           Disagree    Strongly agree       NaN   \n",
       "1       Somewhat agree           Disagree    Strongly agree       NaN   \n",
       "2                Agree           Disagree             Agree  113750.0   \n",
       "3                Agree     Somewhat agree    Strongly agree       NaN   \n",
       "4                  NaN                NaN               NaN       NaN   \n",
       "\n",
       "   ExpectedSalary  \n",
       "0             NaN  \n",
       "1         37500.0  \n",
       "2             NaN  \n",
       "3             NaN  \n",
       "4             NaN  \n",
       "\n",
       "[5 rows x 154 columns]"
      ]
     },
     "execution_count": 1,
     "metadata": {},
     "output_type": "execute_result"
    }
   ],
   "source": [
    "# Importing the necessary\n",
    "import numpy as np\n",
    "import pandas as pd\n",
    "import matplotlib.pyplot as plt\n",
    "%matplotlib inline\n",
    "\n",
    "df = pd.read_csv('./survey_results_public.csv')\n",
    "df.head()"
   ]
  },
  {
   "cell_type": "markdown",
   "metadata": {},
   "source": [
    "# Question 1 : How does the country affects you as a developer?\n",
    "\n",
    "Is it important to understand the what the implications of being in a certain country are for a developer."
   ]
  },
  {
   "cell_type": "code",
   "execution_count": 2,
   "metadata": {},
   "outputs": [
    {
     "name": "stdout",
     "output_type": "stream",
     "text": [
      "The dataset has recorded data from developers from 201 countries \n"
     ]
    }
   ],
   "source": [
    "# Find the number of represented countries in the dataset\n",
    "number_of_countries = len(df['Country'].unique())\n",
    "\n",
    "print(\"The dataset has recorded data from developers from \"+str(number_of_countries) + \" countries \")"
   ]
  },
  {
   "cell_type": "code",
   "execution_count": 3,
   "metadata": {},
   "outputs": [
    {
     "data": {
      "image/png": "[encoded data removed]",
      "text/plain": [
       "<Figure size 432x288 with 1 Axes>"
      ]
     },
     "metadata": {
      "needs_background": "light"
     },
     "output_type": "display_data"
    },
    {
     "data": {
      "text/plain": [
       "United States                     11455\n",
       "India                              5197\n",
       "United Kingdom                     4395\n",
       "Germany                            4143\n",
       "Canada                             2233\n",
       "                                  ...  \n",
       "British Indian Ocean Territory        1\n",
       "Turkmenistan                          1\n",
       "Saint Helena                          1\n",
       "Guinea                                1\n",
       "Gabon                                 1\n",
       "Name: Country, Length: 201, dtype: int64"
      ]
     },
     "execution_count": 3,
     "metadata": {},
     "output_type": "execute_result"
    }
   ],
   "source": [
    "# Find the count of developers per country\n",
    "fig = plt.figure()\n",
    "ax = fig.add_axes([0,0,1,1])\n",
    "countries = ['United States', 'India', 'United Kingdom' , 'Germany', 'Canada']\n",
    "numbers = df['Country'].value_counts()[:5]\n",
    "ax.bar(countries,numbers)\n",
    "plt.title('Top 5 country with the highest number of developers')\n",
    "plt.xlabel('Countries')\n",
    "plt.ylabel('Number of developers')\n",
    "\n",
    "\n",
    "plt.show()\n",
    "df['Country'].value_counts().sort_values(ascending = False)"
   ]
  },
  {
   "cell_type": "markdown",
   "metadata": {},
   "source": [
    "The Top 5 countries with the most represented developers are the United States, India, United Kingdom, Germany, Canada. Note that this reflects the reality where those countries are part of the countries with more developers in the world."
   ]
  },
  {
   "cell_type": "code",
   "execution_count": 4,
   "metadata": {},
   "outputs": [
    {
     "data": {
      "text/plain": [
       "Country\n",
       "Cambodia                          500.0\n",
       "Cuba                              560.0\n",
       "Zimbabwe                          700.0\n",
       "Yemen                            1000.0\n",
       "Kazakhstan                       1000.0\n",
       "                                 ...   \n",
       "Kuwait                         115200.0\n",
       "Uganda                         120000.0\n",
       "U.S. Minor Outlying Islands    136000.0\n",
       "Bermuda                        150000.0\n",
       "Virgin Islands (USA)           175000.0\n",
       "Name: Salary, Length: 136, dtype: float64"
      ]
     },
     "execution_count": 4,
     "metadata": {},
     "output_type": "execute_result"
    }
   ],
   "source": [
    "# Delete all rows that have nan values in the salary column\n",
    "# We are dropping these those row because we do not want any biais in the value of the meam.\n",
    "rm_salary = df.dropna(subset = ['Salary'], how = 'any')\n",
    "\n",
    "# calculating the average salary per country\n",
    "rm_salary.groupby(['Country']).mean()['Salary'].sort_values()"
   ]
  },
  {
   "cell_type": "markdown",
   "metadata": {},
   "source": [
    "The countries with the highest average salaries are Kuwait, Uganda, U.S. Minor Outlying Islands, Bermuda and Virgina Islands. This is the average and we might be wrong saying that these countries are the countries that pay best. Countries like the United have around 11k responses and the probability of having outliers that will drop or increase the average is high"
   ]
  },
  {
   "cell_type": "code",
   "execution_count": 5,
   "metadata": {},
   "outputs": [
    {
     "name": "stdout",
     "output_type": "stream",
     "text": [
      "the average salary in this dataset is : 56298.48064062925\n"
     ]
    }
   ],
   "source": [
    "print(\"the average salary in this dataset is : \" + str(rm_salary['Salary'].mean()))"
   ]
  },
  {
   "cell_type": "markdown",
   "metadata": {},
   "source": [
    "## Conclusion :\n",
    "Countries like the United States, Inda etc have more developers, meaning that working as a developer in those countries is most common than other countries.\n",
    "We also saw that the greater the number of programmers in a country, the greater the average salary.\n",
    "\n",
    "Last, if you work as a developer, you can expect a salary around $56000"
   ]
  },
  {
   "cell_type": "markdown",
   "metadata": {},
   "source": [
    "# Question 2 : How does your Gender affects you when it comes to job placements and salaries?\n"
   ]
  },
  {
   "cell_type": "code",
   "execution_count": 6,
   "metadata": {},
   "outputs": [
    {
     "name": "stdout",
     "output_type": "stream",
     "text": [
      "There are 1182 null values in the Gender column\n"
     ]
    }
   ],
   "source": [
    "# Check the missing values in the Gender column \n",
    "# We will be using the rm_salary dataset\n",
    "\n",
    "number_null = sum(rm_salary['Gender'].isnull())\n",
    "print(\"There are \" + str(number_null) + \" null values in the Gender column\")"
   ]
  },
  {
   "cell_type": "code",
   "execution_count": 7,
   "metadata": {},
   "outputs": [
    {
     "name": "stdout",
     "output_type": "stream",
     "text": [
      "There are now 0 null values in the Gender column\n"
     ]
    },
    {
     "data": {
      "text/plain": [
       "(11709,)"
      ]
     },
     "execution_count": 7,
     "metadata": {},
     "output_type": "execute_result"
    }
   ],
   "source": [
    "# Let's remove the rows the cotains those missing values\n",
    "new_df = rm_salary.dropna(subset = ['Gender'] , how = 'any')\n",
    "\n",
    "# Check the missing values after renmoving the missing values\n",
    "print(\"There are now \" + str(sum(new_df['Gender'].isnull())) + \" null values in the Gender column\")\n",
    "new_df['Gender'].shape"
   ]
  },
  {
   "cell_type": "code",
   "execution_count": 8,
   "metadata": {},
   "outputs": [
    {
     "name": "stdout",
     "output_type": "stream",
     "text": [
      "Male                                                       0.910923\n",
      "Female                                                     0.069946\n",
      "Other                                                      0.004185\n",
      "Male; Other                                                0.003758\n",
      "Gender non-conforming                                      0.003672\n",
      "Male; Gender non-conforming                                0.001793\n",
      "Female; Transgender                                        0.001623\n",
      "Female; Gender non-conforming                              0.001110\n",
      "Transgender                                                0.000683\n",
      "Male; Female; Transgender; Gender non-conforming; Other    0.000512\n",
      "Male; Female                                               0.000427\n",
      "Male; Transgender                                          0.000342\n",
      "Transgender; Gender non-conforming                         0.000342\n",
      "Female; Transgender; Gender non-conforming                 0.000256\n",
      "Male; Female; Transgender                                  0.000085\n",
      "Male; Gender non-conforming; Other                         0.000085\n",
      "Male; Female; Other                                        0.000085\n",
      "Female; Transgender; Other                                 0.000085\n",
      "Male; Transgender; Other                                   0.000085\n",
      "Name: Gender, dtype: float64\n"
     ]
    }
   ],
   "source": [
    "# Check the gender balance in the dataset\n",
    "gender_repartition = new_df['Gender'].value_counts()/new_df.shape[0]\n",
    "print(gender_repartition)"
   ]
  },
  {
   "cell_type": "code",
   "execution_count": 11,
   "metadata": {},
   "outputs": [
    {
     "data": {
      "image/png": "[encoded data removed]",
      "text/plain": [
       "<Figure size 720x504 with 1 Axes>"
      ]
     },
     "metadata": {},
     "output_type": "display_data"
    }
   ],
   "source": [
    "from matplotlib import pyplot as plt \n",
    "  \n",
    "# Creating dataset \n",
    "labels = ['Male', 'Female', 'Other']\n",
    "sizes = new_df['Gender'].value_counts()[:3]\n",
    "  \n",
    "    \n",
    "# Creating plot \n",
    "g = plt.figure(figsize =(10, 7)) \n",
    "plt.pie(sizes, labels = labels) \n",
    "  \n",
    "# show plot \n",
    "plt.title('Top 3 gender reprsented in the dataset')\n",
    "\n",
    "plt.show() "
   ]
  },
  {
   "cell_type": "markdown",
   "metadata": {},
   "source": [
    "### 91% of male, 6% female, and 3% of other genders."
   ]
  },
  {
   "cell_type": "code",
   "execution_count": 12,
   "metadata": {},
   "outputs": [
    {
     "data": {
      "text/plain": [
       "Gender\n",
       "Male; Female; Transgender                                   12000.000000\n",
       "Male; Female; Other                                         15000.000000\n",
       "Male; Female                                                23867.997408\n",
       "Male; Female; Transgender; Gender non-conforming; Other     46073.440469\n",
       "Male; Other                                                 53565.009777\n",
       "Transgender; Gender non-conforming                          54314.516129\n",
       "Male                                                        56996.494293\n",
       "Female                                                      58083.924534\n",
       "Other                                                       58133.780908\n",
       "Male; Gender non-conforming                                 60440.697719\n",
       "Gender non-conforming                                       63672.172798\n",
       "Male; Gender non-conforming; Other                          66000.000000\n",
       "Male; Transgender; Other                                    67500.000000\n",
       "Female; Gender non-conforming                               69519.757125\n",
       "Female; Transgender                                         78791.988363\n",
       "Male; Transgender                                           82033.030303\n",
       "Transgender                                                 87643.985215\n",
       "Female; Transgender; Gender non-conforming                  90750.000000\n",
       "Female; Transgender; Other                                 126000.000000\n",
       "Name: Salary, dtype: float64"
      ]
     },
     "execution_count": 12,
     "metadata": {},
     "output_type": "execute_result"
    }
   ],
   "source": [
    "# Let's check the differences in salaries for the genders\n",
    "new_df.groupby(['Gender']).mean()['Salary'].sort_values()"
   ]
  },
  {
   "cell_type": "markdown",
   "metadata": {},
   "source": [
    "### Looking at the above result, Male and Female gain almost the same with a slight difference of around plus 2000 for females"
   ]
  },
  {
   "cell_type": "markdown",
   "metadata": {},
   "source": [
    "# Question 3: How does the formal eduction impact you as a developper?\n"
   ]
  },
  {
   "cell_type": "code",
   "execution_count": 13,
   "metadata": {},
   "outputs": [
    {
     "name": "stdout",
     "output_type": "stream",
     "text": [
      "There are 0 missing value in that colunm\n"
     ]
    }
   ],
   "source": [
    "# Check if there are missing values in the formal education columns\n",
    "print('There are ' + str(sum(new_df['FormalEducation'].isnull())) + ' missing value in that colunm')"
   ]
  },
  {
   "cell_type": "code",
   "execution_count": 14,
   "metadata": {},
   "outputs": [
    {
     "data": {
      "text/plain": [
       "array([\"Bachelor's degree\", 'Professional degree', \"Master's degree\",\n",
       "       \"Some college/university study without earning a bachelor's degree\",\n",
       "       'Doctoral degree', 'Secondary school',\n",
       "       'I never completed any formal education',\n",
       "       'Primary/elementary school', 'I prefer not to answer'],\n",
       "      dtype=object)"
      ]
     },
     "execution_count": 14,
     "metadata": {},
     "output_type": "execute_result"
    }
   ],
   "source": [
    "# The unique formal education in the dataset\n",
    "new_df['FormalEducation'].unique()"
   ]
  },
  {
   "cell_type": "code",
   "execution_count": 18,
   "metadata": {},
   "outputs": [
    {
     "data": {
      "text/plain": [
       "Text(0, 0.5, 'Number of developers')"
      ]
     },
     "execution_count": 18,
     "metadata": {},
     "output_type": "execute_result"
    },
    {
     "data": {
      "image/png": "[encoded data removed]",
      "text/plain": [
       "<Figure size 432x288 with 1 Axes>"
      ]
     },
     "metadata": {
      "needs_background": "light"
     },
     "output_type": "display_data"
    }
   ],
   "source": [
    "# Find the counts per formal education\n",
    "new_df['FormalEducation'].value_counts()\n",
    "# This shows that the formal bachelor's degree is the most commom formal education for developers\n",
    "\n",
    "# PLot the Top 5 degrees\n",
    "fig = plt.figure()\n",
    "ax = fig.add_axes([0,0,1,1])\n",
    "Degrees = ['Bachelor','Master', 'Some college', 'Secondary sc' , 'Doctoral degree']\n",
    "numbers = new_df['FormalEducation'].value_counts()[:5]\n",
    "ax.bar(Degrees,numbers)\n",
    "plt.title('Top 5 Degrees with the highest number of developers')\n",
    "plt.xlabel('Degrees')\n",
    "plt.ylabel('Number of developers')"
   ]
  },
  {
   "cell_type": "code",
   "execution_count": 29,
   "metadata": {},
   "outputs": [
    {
     "data": {
      "text/plain": [
       "FormalEducation\n",
       "I prefer not to answer                                               34832.867606\n",
       "Secondary school                                                     40935.946437\n",
       "Professional degree                                                  41726.747751\n",
       "I never completed any formal education                               42699.115515\n",
       "Some college/university study without earning a bachelor's degree    56819.222632\n",
       "Bachelor's degree                                                    57976.010760\n",
       "Master's degree                                                      58763.363327\n",
       "Primary/elementary school                                            64741.536900\n",
       "Doctoral degree                                                      78821.555104\n",
       "Name: Salary, dtype: float64"
      ]
     },
     "execution_count": 29,
     "metadata": {},
     "output_type": "execute_result"
    }
   ],
   "source": [
    "# How the formal eduction affects your salary\n",
    "new_df.groupby(['FormalEducation']).mean()['Salary'].sort_values()"
   ]
  },
  {
   "cell_type": "markdown",
   "metadata": {},
   "source": [
    "#### Looking at the above result, we see the more educated you are the greater so salary.There are however exception for primary school and people that never completed a formal education. It's important to notice those any represent 104 datapoints out of 11k, so they might be some biaises"
   ]
  },
  {
   "cell_type": "code",
   "execution_count": null,
   "metadata": {},
   "outputs": [],
   "source": []
  }
 ],
 "metadata": {
  "kernelspec": {
   "display_name": "Python 3",
   "language": "python",
   "name": "python3"
  },
  "language_info": {
   "codemirror_mode": {
    "name": "ipython",
    "version": 3
   },
   "file_extension": ".py",
   "mimetype": "text/x-python",
   "name": "python",
   "nbconvert_exporter": "python",
   "pygments_lexer": "ipython3",
   "version": "3.7.5"
  }
 },
 "nbformat": 4,
 "nbformat_minor": 2
}
